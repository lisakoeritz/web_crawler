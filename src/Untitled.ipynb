{
 "cells": [
  {
   "cell_type": "markdown",
   "metadata": {},
   "source": [
    "# Suchanfragen auf den invertierten Index von www.datenlabor.berlin"
   ]
  },
  {
   "cell_type": "code",
   "execution_count": 50,
   "metadata": {
    "collapsed": false
   },
   "outputs": [],
   "source": [
    "import json\n",
    "from pprint import pprint\n",
    "\n",
    "data={}\n",
    "uniquewords = set()\n",
    "\n",
    "with open('/Users/lisaruth/Desktop/CMTS_BOOTCAMP/invIndex.json') as data_file:    \n",
    "    data = json.load(data_file)\n",
    "\n",
    "for word in data.keys():\n",
    "    uniquewords.add(word)"
   ]
  },
  {
   "cell_type": "markdown",
   "metadata": {
    "collapsed": true
   },
   "source": [
    "## Termsuche auf invertierten Index mit \"AND\" und \"ANDNOT\":"
   ]
  },
  {
   "cell_type": "code",
   "execution_count": 162,
   "metadata": {
    "collapsed": false,
    "scrolled": true
   },
   "outputs": [
    {
     "name": "stdout",
     "output_type": "stream",
     "text": [
      "['datenlabor', 'hoppe']\n",
      "['knowledge']\n",
      "Query \"datenlabor AND hoppe AND NOT knowledge\" is included in the following documents:\n",
      "{'http://www.datenlabor-berlin.de/index.php?id=2', 'http://www.datenlabor-berlin.de/index.php?id=7'}\n",
      "[['http://www.datenlabor-berlin.de', 'http://www.datenlabor-berlin.de/index.php?id=5', 'http://www.datenlabor-berlin.de/index.php?id=15', 'http://www.datenlabor-berlin.de/index.php?id=2', 'http://www.datenlabor-berlin.de/index.php?id=11']]\n",
      "{'http://www.datenlabor-berlin.de/index.php?id=2', 'http://www.datenlabor-berlin.de/index.php?id=7'}\n"
     ]
    }
   ],
   "source": [
    "from ipywidgets import widgets\n",
    "from IPython.display import display\n",
    "text = widgets.Text(description = \"Terme (AND):\", width=300)\n",
    "display(text)\n",
    "\n",
    "def termsearch(words):\n",
    "    terms = {}\n",
    "    resultlist = []\n",
    "    wordlist_AND = words.value.split(\" AND \")\n",
    "    wordlist_AND_NOT = []\n",
    "    notlist = []\n",
    "    for word in wordlist_AND:\n",
    "        if word.startswith(\"NOT \"):\n",
    "            wordlist_AND.remove(word)\n",
    "            w = word.split(\" \")[1]\n",
    "            wordlist_AND_NOT.append(w)\n",
    "            #wordlist_AND.append(w)\n",
    "    print(wordlist_AND)\n",
    "    print(wordlist_AND_NOT)\n",
    "    if set(wordlist_AND).issubset(uniquewords):\n",
    "        for keyword in wordlist_AND:\n",
    "            resultlist.append(list(data[keyword]))\n",
    "        print(\"Query \\\"\"+words.value+\"\\\" is included in the following documents:\")\n",
    "        for keyword in wordlist_AND_NOT:\n",
    "            notlist.append(list(find_word(keyword)))\n",
    "        terms = intersect_lists(resultlist)\n",
    "        print(terms)\n",
    "        print(notlist)\n",
    "        for element in terms1:\n",
    "            if element in notlist:\n",
    "                terms.remove(element)\n",
    "        print(terms)   \n",
    "    else:\n",
    "        print(\"Not included\")\n",
    "    return terms\n",
    "        \n",
    "def intersect_lists(urllist):\n",
    "    result = set(urllist[0]).intersection(*urllist)\n",
    "    return result\n",
    "\n",
    "def find_word(word):\n",
    "    word = word.lower()\n",
    "    if word in data.keys():\n",
    "        return data[word]\n",
    "\n",
    "text.on_submit(termsearch)"
   ]
  },
  {
   "cell_type": "markdown",
   "metadata": {},
   "source": [
    "## Termsuche auf invertiertem Index (einzelne Worte):"
   ]
  },
  {
   "cell_type": "code",
   "execution_count": 156,
   "metadata": {
    "collapsed": false
   },
   "outputs": [
    {
     "name": "stdout",
     "output_type": "stream",
     "text": [
      "{'http://www.datenlabor-berlin.de': [54], 'http://www.datenlabor-berlin.de/index.php?id=5': [192, 321, 387, 411], 'http://www.datenlabor-berlin.de/index.php?id=15': [30], 'http://www.datenlabor-berlin.de/index.php?id=2': [8], 'http://www.datenlabor-berlin.de/index.php?id=11': [2, 10, 33, 82, 169]}\n"
     ]
    }
   ],
   "source": [
    "text = widgets.Text(description = \"Wort:\", width=300)\n",
    "display(text)\n",
    "\n",
    "def get_entry(word):\n",
    "    word = word.value.lower()\n",
    "    if word in data.keys():\n",
    "        print(data[word])\n",
    "    \n",
    "text.on_submit(get_entry)"
   ]
  },
  {
   "cell_type": "markdown",
   "metadata": {},
   "source": [
    "## Termsuche auf invertierten Index mit \"AND NOT\":"
   ]
  },
  {
   "cell_type": "code",
   "execution_count": null,
   "metadata": {
    "collapsed": true
   },
   "outputs": [],
   "source": [
    "text = widgets.Text(description = \"Phrasen:\", width=300)\n",
    "display(text)\n",
    "\n",
    "def phrasesearch(words):\n",
    "    terms = termsearch(words)\n",
    "    "
   ]
  }
 ],
 "metadata": {
  "anaconda-cloud": {},
  "kernelspec": {
   "display_name": "Python [conda root]",
   "language": "python",
   "name": "conda-root-py"
  },
  "language_info": {
   "codemirror_mode": {
    "name": "ipython",
    "version": 3
   },
   "file_extension": ".py",
   "mimetype": "text/x-python",
   "name": "python",
   "nbconvert_exporter": "python",
   "pygments_lexer": "ipython3",
   "version": "3.5.2"
  },
  "widgets": {
   "state": {
    "83a0f81438fb476ea9338212772f770e": {
     "views": [
      {
       "cell_index": 3
      }
     ]
    },
    "d12b5fe37c5c425fae74bc472d91b2f3": {
     "views": [
      {
       "cell_index": 5
      }
     ]
    }
   },
   "version": "1.2.0"
  }
 },
 "nbformat": 4,
 "nbformat_minor": 1
}
