{
 "cells": [
  {
   "cell_type": "markdown",
   "metadata": {},
   "source": [
    "# Suchanfragen auf den invertierten Index von www.datenlabor.berlin"
   ]
  },
  {
   "cell_type": "code",
   "execution_count": 50,
   "metadata": {
    "collapsed": false
   },
   "outputs": [],
   "source": [
    "import json\n",
    "from pprint import pprint\n",
    "\n",
    "data={}\n",
    "uniquewords = set()\n",
    "\n",
    "with open('/Users/lisaruth/Desktop/CMTS_BOOTCAMP/invIndex.json') as data_file:    \n",
    "    data = json.load(data_file)\n",
    "\n",
    "for word in data.keys():\n",
    "    uniquewords.add(word)"
   ]
  },
  {
   "cell_type": "markdown",
   "metadata": {
    "collapsed": true
   },
   "source": [
    "## Termsuche auf invertierten Index mit \"AND\" und \"ANDNOT\":"
   ]
  },
  {
   "cell_type": "code",
   "execution_count": 150,
   "metadata": {
    "collapsed": false,
    "scrolled": true
   },
   "outputs": [
    {
     "name": "stdout",
     "output_type": "stream",
     "text": [
      "['hoppe', 'datenlabor', 'daten']\n",
      "['daten']\n",
      "Query \"hoppe AND datenlabor AND NOT daten\" is included in the following documents:\n",
      "{'http://www.datenlabor-berlin.de/index.php?id=2'}\n"
     ]
    }
   ],
   "source": [
    "from ipywidgets import widgets\n",
    "from IPython.display import display\n",
    "text = widgets.Text(description = \"Terme (AND):\", width=300)\n",
    "display(text)\n",
    "\n",
    "def termsearch(words):\n",
    "    terms = {}\n",
    "    resultlist = []\n",
    "    wordlist_AND = words.value.split(\" AND \")\n",
    "    wordlist_AND_NOT = []\n",
    "    notlist = []\n",
    "    for word in wordlist_AND:\n",
    "        if word.startswith(\"NOT \"):\n",
    "            wordlist_AND.remove(word)\n",
    "            w = word.split(\" \")[1]\n",
    "            wordlist_AND_NOT.append(w)\n",
    "            wordlist_AND.append(w)\n",
    "    print(wordlist_AND)\n",
    "    print(wordlist_AND_NOT)\n",
    "    if set(wordlist_AND).issubset(uniquewords):\n",
    "        for keyword in wordlist_AND:\n",
    "            resultlist.append(list(data[keyword]))\n",
    "        print(\"Query \\\"\"+words.value+\"\\\" is included in the following documents:\")\n",
    "        for keyword in wordlist_AND_NOT:\n",
    "            notlist.append(list(find_word(keyword)))\n",
    "        terms = intersect_lists(resultlist)\n",
    "        for element in terms:\n",
    "            if element in notlist:\n",
    "                terms.remove(element)\n",
    "        print(terms)   \n",
    "    else:\n",
    "        print(\"Not included\")\n",
    "    return terms\n",
    "        \n",
    "def intersect_lists(urllist):\n",
    "    result = set(urllist[0]).intersection(*urllist)\n",
    "    return result\n",
    "\n",
    "def find_word(word):\n",
    "    word = word.lower()\n",
    "    if word in data.keys():\n",
    "        return data[word]\n",
    "\n",
    "text.on_submit(termsearch)"
   ]
  },
  {
   "cell_type": "markdown",
   "metadata": {},
   "source": [
    "## Termsuche auf invertiertem Index (einzelne Worte):"
   ]
  },
  {
   "cell_type": "code",
   "execution_count": 148,
   "metadata": {
    "collapsed": false
   },
   "outputs": [
    {
     "ename": "AttributeError",
     "evalue": "'str' object has no attribute 'on_submit'",
     "output_type": "error",
     "traceback": [
      "\u001b[0;31m---------------------------------------------------------------------------\u001b[0m",
      "\u001b[0;31mAttributeError\u001b[0m                            Traceback (most recent call last)",
      "\u001b[0;32m<ipython-input-148-5bc7a23f0d4f>\u001b[0m in \u001b[0;36m<module>\u001b[0;34m()\u001b[0m\n\u001b[1;32m      2\u001b[0m \u001b[0mdisplay\u001b[0m\u001b[0;34m(\u001b[0m\u001b[0mtext\u001b[0m\u001b[0;34m)\u001b[0m\u001b[0;34m\u001b[0m\u001b[0m\n\u001b[1;32m      3\u001b[0m \u001b[0;34m\u001b[0m\u001b[0m\n\u001b[0;32m----> 4\u001b[0;31m \u001b[0mtext\u001b[0m\u001b[0;34m.\u001b[0m\u001b[0mvalue\u001b[0m\u001b[0;34m.\u001b[0m\u001b[0mon_submit\u001b[0m\u001b[0;34m(\u001b[0m\u001b[0mfind_word\u001b[0m\u001b[0;34m)\u001b[0m\u001b[0;34m\u001b[0m\u001b[0m\n\u001b[0m",
      "\u001b[0;31mAttributeError\u001b[0m: 'str' object has no attribute 'on_submit'"
     ]
    }
   ],
   "source": [
    "text = widgets.Text(description = \"Wort:\", width=300)\n",
    "display(text)\n",
    "\n",
    "def get_entry(word):\n",
    "    word = word.value.lower()\n",
    "    if word in data.keys():\n",
    "        return data[word]\n",
    "    \n",
    "text.on_submit(get_entry)"
   ]
  },
  {
   "cell_type": "markdown",
   "metadata": {},
   "source": [
    "## Termsuche auf invertierten Index mit \"AND NOT\":"
   ]
  },
  {
   "cell_type": "code",
   "execution_count": null,
   "metadata": {
    "collapsed": true
   },
   "outputs": [],
   "source": [
    "text = widgets.Text(description = \"Phrasen:\", width=300)\n",
    "display(text)\n",
    "\n",
    "def phrasesearch(words):\n",
    "    terms = termsearch(words)\n",
    "    "
   ]
  }
 ],
 "metadata": {
  "anaconda-cloud": {},
  "kernelspec": {
   "display_name": "Python [conda root]",
   "language": "python",
   "name": "conda-root-py"
  },
  "language_info": {
   "codemirror_mode": {
    "name": "ipython",
    "version": 3
   },
   "file_extension": ".py",
   "mimetype": "text/x-python",
   "name": "python",
   "nbconvert_exporter": "python",
   "pygments_lexer": "ipython3",
   "version": "3.5.2"
  },
  "widgets": {
   "state": {
    "2cf8960ad5134e1da861aeb46bf409c9": {
     "views": [
      {
       "cell_index": 5
      }
     ]
    },
    "e22bb031b78942b79a584a39139b1db6": {
     "views": [
      {
       "cell_index": 3
      }
     ]
    }
   },
   "version": "1.2.0"
  }
 },
 "nbformat": 4,
 "nbformat_minor": 1
}
